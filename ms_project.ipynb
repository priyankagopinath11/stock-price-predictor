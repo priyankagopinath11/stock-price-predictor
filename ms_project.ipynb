{
  "nbformat": 4,
  "nbformat_minor": 0,
  "metadata": {
    "colab": {
      "provenance": []
    },
    "kernelspec": {
      "name": "python3",
      "display_name": "Python 3"
    },
    "language_info": {
      "name": "python"
    }
  },
  "cells": [
    {
      "cell_type": "markdown",
      "source": [
        "**Stock price predictor**<br>\n",
        "<br>\n",
        "**1. Importing libraries**<br>\n",
        "We used numpy for scientific operations, pandas to modify our dataset, matplotlib to visualize the results, sklearn to scale our data, and keras to work as a wrapper on low-level libraries like TensorFlow."
      ],
      "metadata": {
        "id": "dZ0kZbVakv4H"
      }
    },
    {
      "cell_type": "code",
      "metadata": {
        "id": "6LOHq--wv2kM"
      },
      "source": [
        "import numpy as np\n",
        "import pandas as pd\n",
        "import matplotlib.pyplot as plt\n",
        "from sklearn.preprocessing import MinMaxScaler\n",
        "from keras.models import Sequential, load_model\n",
        "from keras.layers import LSTM, Dense, Dropout"
      ],
      "execution_count": 1,
      "outputs": []
    },
    {
      "cell_type": "markdown",
      "source": [
        "**2. Uploading the data** <br>\n",
        "The files that are to be uploaded were downloaded from yahoo finance. We took the Apple company stock prices from 10/11/2016 to 10/8/2021."
      ],
      "metadata": {
        "id": "TgR0EbEblVpE"
      }
    },
    {
      "cell_type": "code",
      "metadata": {
        "id": "11Uf8dbzv-w1",
        "colab": {
          "base_uri": "https://localhost:8080/",
          "height": 73
        },
        "outputId": "fb2e7f0f-735b-4718-e7b7-ea1987064792"
      },
      "source": [
        "from google.colab import files\n",
        "dataset = files.upload()"
      ],
      "execution_count": 2,
      "outputs": [
        {
          "output_type": "display_data",
          "data": {
            "text/plain": [
              "<IPython.core.display.HTML object>"
            ],
            "text/html": [
              "\n",
              "     <input type=\"file\" id=\"files-f82724e4-7988-4f6c-badd-93948d2f6318\" name=\"files[]\" multiple disabled\n",
              "        style=\"border:none\" />\n",
              "     <output id=\"result-f82724e4-7988-4f6c-badd-93948d2f6318\">\n",
              "      Upload widget is only available when the cell has been executed in the\n",
              "      current browser session. Please rerun this cell to enable.\n",
              "      </output>\n",
              "      <script>// Copyright 2017 Google LLC\n",
              "//\n",
              "// Licensed under the Apache License, Version 2.0 (the \"License\");\n",
              "// you may not use this file except in compliance with the License.\n",
              "// You may obtain a copy of the License at\n",
              "//\n",
              "//      http://www.apache.org/licenses/LICENSE-2.0\n",
              "//\n",
              "// Unless required by applicable law or agreed to in writing, software\n",
              "// distributed under the License is distributed on an \"AS IS\" BASIS,\n",
              "// WITHOUT WARRANTIES OR CONDITIONS OF ANY KIND, either express or implied.\n",
              "// See the License for the specific language governing permissions and\n",
              "// limitations under the License.\n",
              "\n",
              "/**\n",
              " * @fileoverview Helpers for google.colab Python module.\n",
              " */\n",
              "(function(scope) {\n",
              "function span(text, styleAttributes = {}) {\n",
              "  const element = document.createElement('span');\n",
              "  element.textContent = text;\n",
              "  for (const key of Object.keys(styleAttributes)) {\n",
              "    element.style[key] = styleAttributes[key];\n",
              "  }\n",
              "  return element;\n",
              "}\n",
              "\n",
              "// Max number of bytes which will be uploaded at a time.\n",
              "const MAX_PAYLOAD_SIZE = 100 * 1024;\n",
              "\n",
              "function _uploadFiles(inputId, outputId) {\n",
              "  const steps = uploadFilesStep(inputId, outputId);\n",
              "  const outputElement = document.getElementById(outputId);\n",
              "  // Cache steps on the outputElement to make it available for the next call\n",
              "  // to uploadFilesContinue from Python.\n",
              "  outputElement.steps = steps;\n",
              "\n",
              "  return _uploadFilesContinue(outputId);\n",
              "}\n",
              "\n",
              "// This is roughly an async generator (not supported in the browser yet),\n",
              "// where there are multiple asynchronous steps and the Python side is going\n",
              "// to poll for completion of each step.\n",
              "// This uses a Promise to block the python side on completion of each step,\n",
              "// then passes the result of the previous step as the input to the next step.\n",
              "function _uploadFilesContinue(outputId) {\n",
              "  const outputElement = document.getElementById(outputId);\n",
              "  const steps = outputElement.steps;\n",
              "\n",
              "  const next = steps.next(outputElement.lastPromiseValue);\n",
              "  return Promise.resolve(next.value.promise).then((value) => {\n",
              "    // Cache the last promise value to make it available to the next\n",
              "    // step of the generator.\n",
              "    outputElement.lastPromiseValue = value;\n",
              "    return next.value.response;\n",
              "  });\n",
              "}\n",
              "\n",
              "/**\n",
              " * Generator function which is called between each async step of the upload\n",
              " * process.\n",
              " * @param {string} inputId Element ID of the input file picker element.\n",
              " * @param {string} outputId Element ID of the output display.\n",
              " * @return {!Iterable<!Object>} Iterable of next steps.\n",
              " */\n",
              "function* uploadFilesStep(inputId, outputId) {\n",
              "  const inputElement = document.getElementById(inputId);\n",
              "  inputElement.disabled = false;\n",
              "\n",
              "  const outputElement = document.getElementById(outputId);\n",
              "  outputElement.innerHTML = '';\n",
              "\n",
              "  const pickedPromise = new Promise((resolve) => {\n",
              "    inputElement.addEventListener('change', (e) => {\n",
              "      resolve(e.target.files);\n",
              "    });\n",
              "  });\n",
              "\n",
              "  const cancel = document.createElement('button');\n",
              "  inputElement.parentElement.appendChild(cancel);\n",
              "  cancel.textContent = 'Cancel upload';\n",
              "  const cancelPromise = new Promise((resolve) => {\n",
              "    cancel.onclick = () => {\n",
              "      resolve(null);\n",
              "    };\n",
              "  });\n",
              "\n",
              "  // Wait for the user to pick the files.\n",
              "  const files = yield {\n",
              "    promise: Promise.race([pickedPromise, cancelPromise]),\n",
              "    response: {\n",
              "      action: 'starting',\n",
              "    }\n",
              "  };\n",
              "\n",
              "  cancel.remove();\n",
              "\n",
              "  // Disable the input element since further picks are not allowed.\n",
              "  inputElement.disabled = true;\n",
              "\n",
              "  if (!files) {\n",
              "    return {\n",
              "      response: {\n",
              "        action: 'complete',\n",
              "      }\n",
              "    };\n",
              "  }\n",
              "\n",
              "  for (const file of files) {\n",
              "    const li = document.createElement('li');\n",
              "    li.append(span(file.name, {fontWeight: 'bold'}));\n",
              "    li.append(span(\n",
              "        `(${file.type || 'n/a'}) - ${file.size} bytes, ` +\n",
              "        `last modified: ${\n",
              "            file.lastModifiedDate ? file.lastModifiedDate.toLocaleDateString() :\n",
              "                                    'n/a'} - `));\n",
              "    const percent = span('0% done');\n",
              "    li.appendChild(percent);\n",
              "\n",
              "    outputElement.appendChild(li);\n",
              "\n",
              "    const fileDataPromise = new Promise((resolve) => {\n",
              "      const reader = new FileReader();\n",
              "      reader.onload = (e) => {\n",
              "        resolve(e.target.result);\n",
              "      };\n",
              "      reader.readAsArrayBuffer(file);\n",
              "    });\n",
              "    // Wait for the data to be ready.\n",
              "    let fileData = yield {\n",
              "      promise: fileDataPromise,\n",
              "      response: {\n",
              "        action: 'continue',\n",
              "      }\n",
              "    };\n",
              "\n",
              "    // Use a chunked sending to avoid message size limits. See b/62115660.\n",
              "    let position = 0;\n",
              "    do {\n",
              "      const length = Math.min(fileData.byteLength - position, MAX_PAYLOAD_SIZE);\n",
              "      const chunk = new Uint8Array(fileData, position, length);\n",
              "      position += length;\n",
              "\n",
              "      const base64 = btoa(String.fromCharCode.apply(null, chunk));\n",
              "      yield {\n",
              "        response: {\n",
              "          action: 'append',\n",
              "          file: file.name,\n",
              "          data: base64,\n",
              "        },\n",
              "      };\n",
              "\n",
              "      let percentDone = fileData.byteLength === 0 ?\n",
              "          100 :\n",
              "          Math.round((position / fileData.byteLength) * 100);\n",
              "      percent.textContent = `${percentDone}% done`;\n",
              "\n",
              "    } while (position < fileData.byteLength);\n",
              "  }\n",
              "\n",
              "  // All done.\n",
              "  yield {\n",
              "    response: {\n",
              "      action: 'complete',\n",
              "    }\n",
              "  };\n",
              "}\n",
              "\n",
              "scope.google = scope.google || {};\n",
              "scope.google.colab = scope.google.colab || {};\n",
              "scope.google.colab._files = {\n",
              "  _uploadFiles,\n",
              "  _uploadFilesContinue,\n",
              "};\n",
              "})(self);\n",
              "</script> "
            ]
          },
          "metadata": {}
        },
        {
          "output_type": "stream",
          "name": "stdout",
          "text": [
            "Saving AAPL.csv to AAPL.csv\n"
          ]
        }
      ]
    },
    {
      "cell_type": "markdown",
      "source": [
        "**3. Reading the data**<br>\n",
        "We read the csv file into a data frame. The data frame has 1258 rows and 7 columns. The data contains the stock prices for 1258 days.\n"
      ],
      "metadata": {
        "id": "ZleEpuiJly8T"
      }
    },
    {
      "cell_type": "code",
      "metadata": {
        "id": "prIg3REywPed",
        "colab": {
          "base_uri": "https://localhost:8080/",
          "height": 206
        },
        "outputId": "016ba113-6428-4144-fe30-4c8103c54467"
      },
      "source": [
        "df = pd.read_csv('AAPL.csv')\n",
        "df.head()"
      ],
      "execution_count": 3,
      "outputs": [
        {
          "output_type": "execute_result",
          "data": {
            "text/plain": [
              "         Date       Open       High        Low      Close  Adj Close  \\\n",
              "0  2016-10-11  29.424999  29.672501  29.049999  29.075001  26.992256   \n",
              "1  2016-10-12  29.337500  29.495001  29.187500  29.334999  27.233627   \n",
              "2  2016-10-13  29.197500  29.360001  28.930000  29.245001  27.150080   \n",
              "3  2016-10-14  29.469999  29.542500  29.282499  29.407499  27.300938   \n",
              "4  2016-10-17  29.332500  29.459999  29.195000  29.387501  27.282373   \n",
              "\n",
              "      Volume  \n",
              "0  256164000  \n",
              "1  150347200  \n",
              "2  140769600  \n",
              "3  142608800  \n",
              "4   94499600  "
            ],
            "text/html": [
              "\n",
              "\n",
              "  <div id=\"df-5cd85c11-6a0d-40ca-b811-4898f0547b6c\">\n",
              "    <div class=\"colab-df-container\">\n",
              "      <div>\n",
              "<style scoped>\n",
              "    .dataframe tbody tr th:only-of-type {\n",
              "        vertical-align: middle;\n",
              "    }\n",
              "\n",
              "    .dataframe tbody tr th {\n",
              "        vertical-align: top;\n",
              "    }\n",
              "\n",
              "    .dataframe thead th {\n",
              "        text-align: right;\n",
              "    }\n",
              "</style>\n",
              "<table border=\"1\" class=\"dataframe\">\n",
              "  <thead>\n",
              "    <tr style=\"text-align: right;\">\n",
              "      <th></th>\n",
              "      <th>Date</th>\n",
              "      <th>Open</th>\n",
              "      <th>High</th>\n",
              "      <th>Low</th>\n",
              "      <th>Close</th>\n",
              "      <th>Adj Close</th>\n",
              "      <th>Volume</th>\n",
              "    </tr>\n",
              "  </thead>\n",
              "  <tbody>\n",
              "    <tr>\n",
              "      <th>0</th>\n",
              "      <td>2016-10-11</td>\n",
              "      <td>29.424999</td>\n",
              "      <td>29.672501</td>\n",
              "      <td>29.049999</td>\n",
              "      <td>29.075001</td>\n",
              "      <td>26.992256</td>\n",
              "      <td>256164000</td>\n",
              "    </tr>\n",
              "    <tr>\n",
              "      <th>1</th>\n",
              "      <td>2016-10-12</td>\n",
              "      <td>29.337500</td>\n",
              "      <td>29.495001</td>\n",
              "      <td>29.187500</td>\n",
              "      <td>29.334999</td>\n",
              "      <td>27.233627</td>\n",
              "      <td>150347200</td>\n",
              "    </tr>\n",
              "    <tr>\n",
              "      <th>2</th>\n",
              "      <td>2016-10-13</td>\n",
              "      <td>29.197500</td>\n",
              "      <td>29.360001</td>\n",
              "      <td>28.930000</td>\n",
              "      <td>29.245001</td>\n",
              "      <td>27.150080</td>\n",
              "      <td>140769600</td>\n",
              "    </tr>\n",
              "    <tr>\n",
              "      <th>3</th>\n",
              "      <td>2016-10-14</td>\n",
              "      <td>29.469999</td>\n",
              "      <td>29.542500</td>\n",
              "      <td>29.282499</td>\n",
              "      <td>29.407499</td>\n",
              "      <td>27.300938</td>\n",
              "      <td>142608800</td>\n",
              "    </tr>\n",
              "    <tr>\n",
              "      <th>4</th>\n",
              "      <td>2016-10-17</td>\n",
              "      <td>29.332500</td>\n",
              "      <td>29.459999</td>\n",
              "      <td>29.195000</td>\n",
              "      <td>29.387501</td>\n",
              "      <td>27.282373</td>\n",
              "      <td>94499600</td>\n",
              "    </tr>\n",
              "  </tbody>\n",
              "</table>\n",
              "</div>\n",
              "      <button class=\"colab-df-convert\" onclick=\"convertToInteractive('df-5cd85c11-6a0d-40ca-b811-4898f0547b6c')\"\n",
              "              title=\"Convert this dataframe to an interactive table.\"\n",
              "              style=\"display:none;\">\n",
              "\n",
              "  <svg xmlns=\"http://www.w3.org/2000/svg\" height=\"24px\"viewBox=\"0 0 24 24\"\n",
              "       width=\"24px\">\n",
              "    <path d=\"M0 0h24v24H0V0z\" fill=\"none\"/>\n",
              "    <path d=\"M18.56 5.44l.94 2.06.94-2.06 2.06-.94-2.06-.94-.94-2.06-.94 2.06-2.06.94zm-11 1L8.5 8.5l.94-2.06 2.06-.94-2.06-.94L8.5 2.5l-.94 2.06-2.06.94zm10 10l.94 2.06.94-2.06 2.06-.94-2.06-.94-.94-2.06-.94 2.06-2.06.94z\"/><path d=\"M17.41 7.96l-1.37-1.37c-.4-.4-.92-.59-1.43-.59-.52 0-1.04.2-1.43.59L10.3 9.45l-7.72 7.72c-.78.78-.78 2.05 0 2.83L4 21.41c.39.39.9.59 1.41.59.51 0 1.02-.2 1.41-.59l7.78-7.78 2.81-2.81c.8-.78.8-2.07 0-2.86zM5.41 20L4 18.59l7.72-7.72 1.47 1.35L5.41 20z\"/>\n",
              "  </svg>\n",
              "      </button>\n",
              "\n",
              "\n",
              "\n",
              "    <div id=\"df-d4cc9e88-ec45-409d-9439-54a0f793dfa9\">\n",
              "      <button class=\"colab-df-quickchart\" onclick=\"quickchart('df-d4cc9e88-ec45-409d-9439-54a0f793dfa9')\"\n",
              "              title=\"Suggest charts.\"\n",
              "              style=\"display:none;\">\n",
              "\n",
              "<svg xmlns=\"http://www.w3.org/2000/svg\" height=\"24px\"viewBox=\"0 0 24 24\"\n",
              "     width=\"24px\">\n",
              "    <g>\n",
              "        <path d=\"M19 3H5c-1.1 0-2 .9-2 2v14c0 1.1.9 2 2 2h14c1.1 0 2-.9 2-2V5c0-1.1-.9-2-2-2zM9 17H7v-7h2v7zm4 0h-2V7h2v10zm4 0h-2v-4h2v4z\"/>\n",
              "    </g>\n",
              "</svg>\n",
              "      </button>\n",
              "    </div>\n",
              "\n",
              "<style>\n",
              "  .colab-df-quickchart {\n",
              "    background-color: #E8F0FE;\n",
              "    border: none;\n",
              "    border-radius: 50%;\n",
              "    cursor: pointer;\n",
              "    display: none;\n",
              "    fill: #1967D2;\n",
              "    height: 32px;\n",
              "    padding: 0 0 0 0;\n",
              "    width: 32px;\n",
              "  }\n",
              "\n",
              "  .colab-df-quickchart:hover {\n",
              "    background-color: #E2EBFA;\n",
              "    box-shadow: 0px 1px 2px rgba(60, 64, 67, 0.3), 0px 1px 3px 1px rgba(60, 64, 67, 0.15);\n",
              "    fill: #174EA6;\n",
              "  }\n",
              "\n",
              "  [theme=dark] .colab-df-quickchart {\n",
              "    background-color: #3B4455;\n",
              "    fill: #D2E3FC;\n",
              "  }\n",
              "\n",
              "  [theme=dark] .colab-df-quickchart:hover {\n",
              "    background-color: #434B5C;\n",
              "    box-shadow: 0px 1px 3px 1px rgba(0, 0, 0, 0.15);\n",
              "    filter: drop-shadow(0px 1px 2px rgba(0, 0, 0, 0.3));\n",
              "    fill: #FFFFFF;\n",
              "  }\n",
              "</style>\n",
              "\n",
              "    <script>\n",
              "      async function quickchart(key) {\n",
              "        const containerElement = document.querySelector('#' + key);\n",
              "        const charts = await google.colab.kernel.invokeFunction(\n",
              "            'suggestCharts', [key], {});\n",
              "      }\n",
              "    </script>\n",
              "\n",
              "      <script>\n",
              "\n",
              "function displayQuickchartButton(domScope) {\n",
              "  let quickchartButtonEl =\n",
              "    domScope.querySelector('#df-d4cc9e88-ec45-409d-9439-54a0f793dfa9 button.colab-df-quickchart');\n",
              "  quickchartButtonEl.style.display =\n",
              "    google.colab.kernel.accessAllowed ? 'block' : 'none';\n",
              "}\n",
              "\n",
              "        displayQuickchartButton(document);\n",
              "      </script>\n",
              "      <style>\n",
              "    .colab-df-container {\n",
              "      display:flex;\n",
              "      flex-wrap:wrap;\n",
              "      gap: 12px;\n",
              "    }\n",
              "\n",
              "    .colab-df-convert {\n",
              "      background-color: #E8F0FE;\n",
              "      border: none;\n",
              "      border-radius: 50%;\n",
              "      cursor: pointer;\n",
              "      display: none;\n",
              "      fill: #1967D2;\n",
              "      height: 32px;\n",
              "      padding: 0 0 0 0;\n",
              "      width: 32px;\n",
              "    }\n",
              "\n",
              "    .colab-df-convert:hover {\n",
              "      background-color: #E2EBFA;\n",
              "      box-shadow: 0px 1px 2px rgba(60, 64, 67, 0.3), 0px 1px 3px 1px rgba(60, 64, 67, 0.15);\n",
              "      fill: #174EA6;\n",
              "    }\n",
              "\n",
              "    [theme=dark] .colab-df-convert {\n",
              "      background-color: #3B4455;\n",
              "      fill: #D2E3FC;\n",
              "    }\n",
              "\n",
              "    [theme=dark] .colab-df-convert:hover {\n",
              "      background-color: #434B5C;\n",
              "      box-shadow: 0px 1px 3px 1px rgba(0, 0, 0, 0.15);\n",
              "      filter: drop-shadow(0px 1px 2px rgba(0, 0, 0, 0.3));\n",
              "      fill: #FFFFFF;\n",
              "    }\n",
              "  </style>\n",
              "\n",
              "      <script>\n",
              "        const buttonEl =\n",
              "          document.querySelector('#df-5cd85c11-6a0d-40ca-b811-4898f0547b6c button.colab-df-convert');\n",
              "        buttonEl.style.display =\n",
              "          google.colab.kernel.accessAllowed ? 'block' : 'none';\n",
              "\n",
              "        async function convertToInteractive(key) {\n",
              "          const element = document.querySelector('#df-5cd85c11-6a0d-40ca-b811-4898f0547b6c');\n",
              "          const dataTable =\n",
              "            await google.colab.kernel.invokeFunction('convertToInteractive',\n",
              "                                                     [key], {});\n",
              "          if (!dataTable) return;\n",
              "\n",
              "          const docLinkHtml = 'Like what you see? Visit the ' +\n",
              "            '<a target=\"_blank\" href=https://colab.research.google.com/notebooks/data_table.ipynb>data table notebook</a>'\n",
              "            + ' to learn more about interactive tables.';\n",
              "          element.innerHTML = '';\n",
              "          dataTable['output_type'] = 'display_data';\n",
              "          await google.colab.output.renderOutput(dataTable, element);\n",
              "          const docLink = document.createElement('div');\n",
              "          docLink.innerHTML = docLinkHtml;\n",
              "          element.appendChild(docLink);\n",
              "        }\n",
              "      </script>\n",
              "    </div>\n",
              "  </div>\n"
            ]
          },
          "metadata": {},
          "execution_count": 3
        }
      ]
    },
    {
      "cell_type": "code",
      "metadata": {
        "id": "w9TBWkcl131p",
        "colab": {
          "base_uri": "https://localhost:8080/"
        },
        "outputId": "bc53eaf7-20e7-4842-a859-0da243607d23"
      },
      "source": [
        "df.shape"
      ],
      "execution_count": 4,
      "outputs": [
        {
          "output_type": "execute_result",
          "data": {
            "text/plain": [
              "(1257, 7)"
            ]
          },
          "metadata": {},
          "execution_count": 4
        }
      ]
    },
    {
      "cell_type": "markdown",
      "source": [
        "To make it as simple as possible, we used just one variable which is the “Close” price."
      ],
      "metadata": {
        "id": "00ErlDANmT3k"
      }
    },
    {
      "cell_type": "code",
      "metadata": {
        "id": "odNgzUzY2xcj",
        "colab": {
          "base_uri": "https://localhost:8080/"
        },
        "outputId": "49b3eb56-c4f1-44ea-e941-04124ede09fc"
      },
      "source": [
        "df = df['Close'].values\n",
        "df = df.reshape(-1, 1)\n",
        "df.shape\n"
      ],
      "execution_count": 5,
      "outputs": [
        {
          "output_type": "execute_result",
          "data": {
            "text/plain": [
              "(1257, 1)"
            ]
          },
          "metadata": {},
          "execution_count": 5
        }
      ]
    },
    {
      "cell_type": "markdown",
      "source": [
        "**4. Splitting the data into Training and Testing Sets**<br>\n",
        "The data was split as 80% for training and 20% for testing. So, out of the 1258 rows 1006 are for training and 252 for testing."
      ],
      "metadata": {
        "id": "tBnGTVxsmY5O"
      }
    },
    {
      "cell_type": "code",
      "metadata": {
        "id": "da51hVJSyFoC",
        "colab": {
          "base_uri": "https://localhost:8080/"
        },
        "outputId": "1a202e42-3763-414a-a3f0-84f1b3aa8f39"
      },
      "source": [
        "dataset_train = np.array(df[:int(df.shape[0]*0.8)])\n",
        "dataset_test = np.array(df[int(df.shape[0]*0.8):])\n",
        "print(dataset_train.shape)\n",
        "print(dataset_test.shape)"
      ],
      "execution_count": 6,
      "outputs": [
        {
          "output_type": "stream",
          "name": "stdout",
          "text": [
            "(1005, 1)\n",
            "(252, 1)\n"
          ]
        }
      ]
    },
    {
      "cell_type": "code",
      "metadata": {
        "colab": {
          "base_uri": "https://localhost:8080/"
        },
        "id": "H5VbCARIP7Ux",
        "outputId": "290668d1-dae1-43d1-d049-dce37c520e66"
      },
      "source": [
        "dataset_train"
      ],
      "execution_count": 7,
      "outputs": [
        {
          "output_type": "execute_result",
          "data": {
            "text/plain": [
              "array([[ 29.075001],\n",
              "       [ 29.334999],\n",
              "       [ 29.245001],\n",
              "       ...,\n",
              "       [116.5     ],\n",
              "       [113.160004],\n",
              "       [115.080002]])"
            ]
          },
          "metadata": {},
          "execution_count": 7
        }
      ]
    },
    {
      "cell_type": "markdown",
      "source": [
        "**5. Scaling the data**<br>\n",
        "We used the MinMaxScaler to scale our data between zero and one."
      ],
      "metadata": {
        "id": "k8USXnAWn-Mq"
      }
    },
    {
      "cell_type": "code",
      "metadata": {
        "id": "cyczfgfL1S9j"
      },
      "source": [
        "scaler = MinMaxScaler(feature_range=(0,1))\n",
        "dataset_train = scaler.fit_transform(dataset_train)\n",
        "dataset_test = scaler.transform(dataset_test)"
      ],
      "execution_count": 8,
      "outputs": []
    },
    {
      "cell_type": "markdown",
      "source": [
        "**6. Function to create the datasets**<br>\n"
      ],
      "metadata": {
        "id": "K-4LW434oI0L"
      }
    },
    {
      "cell_type": "code",
      "metadata": {
        "id": "O7you3NO7ycK"
      },
      "source": [
        "def create_dataset(df):\n",
        "    x = []\n",
        "    y = []\n",
        "    for i in range(50, df.shape[0]):\n",
        "        x.append(df[i-50:i, 0])\n",
        "        y.append(df[i, 0])\n",
        "    x = np.array(x)\n",
        "    y = np.array(y)\n",
        "    return x,y"
      ],
      "execution_count": 9,
      "outputs": []
    },
    {
      "cell_type": "markdown",
      "source": [
        "**7. Creating the training and testing data sets**<br>\n",
        "We created the testing and training data sets by calling the function for each one. We are taking the timestep as 50. So, the model takes the closing prices from the last 50 days and predicts the closing price for the next day.\n",
        "First we call the function for the testing data. Basically, we are creating an array of  202 rows and 50 columns, and storing it in x_test. So in the first row of the array x_test we have the closing price for the first 50 days.In the next row, we have the closing price for 50 days, leaving out the first value of the previous row, and so on for the remaining 200 days.\n",
        "The model looks at the closing price for 50 days and predicts the closing price for the 51st day. This value is stored in the arrray y_test (i.e the value that the model is supposed to predict, is stored in the array y_test). y_test is an array of 202 rows. The same is done for the training data as well."
      ],
      "metadata": {
        "id": "S6e9-BMpobFj"
      }
    },
    {
      "cell_type": "code",
      "metadata": {
        "id": "JWlDf6WZLGCM",
        "colab": {
          "base_uri": "https://localhost:8080/"
        },
        "outputId": "547fadbe-32a1-44b2-8330-80e77e4a5c7b"
      },
      "source": [
        "x_test, y_test = create_dataset(dataset_test)\n",
        "x_train, y_train = create_dataset(dataset_train)\n",
        "print(x_test.shape,y_test.shape,x_train.shape,y_train.shape,df.shape)"
      ],
      "execution_count": 10,
      "outputs": [
        {
          "output_type": "stream",
          "name": "stdout",
          "text": [
            "(202, 50) (202,) (955, 50) (955,) (1257, 1)\n"
          ]
        }
      ]
    },
    {
      "cell_type": "code",
      "metadata": {
        "id": "ARdd6ANy5gyg",
        "colab": {
          "base_uri": "https://localhost:8080/"
        },
        "outputId": "ac003317-c6ed-42c2-e53b-4c7cc6f9f459"
      },
      "source": [
        "x_test"
      ],
      "execution_count": 11,
      "outputs": [
        {
          "output_type": "execute_result",
          "data": {
            "text/plain": [
              "array([[0.82172114, 0.84028219, 0.90923652, ..., 0.94153271, 0.94088308,\n",
              "        0.94914275],\n",
              "       [0.84028219, 0.90923652, 0.87861074, ..., 0.94088308, 0.94914275,\n",
              "        0.93021053],\n",
              "       [0.90923652, 0.87861074, 0.87944603, ..., 0.94914275, 0.93021053,\n",
              "        0.94478089],\n",
              "       ...,\n",
              "       [1.13744473, 1.11684195, 1.10022973, ..., 1.06793353, 1.07860608,\n",
              "        1.04603147],\n",
              "       [1.11684195, 1.10022973, 1.1063549 , ..., 1.07860608, 1.04603147,\n",
              "        1.06431413],\n",
              "       [1.10022973, 1.1063549 , 1.10839664, ..., 1.04603147, 1.06431413,\n",
              "        1.07257379]])"
            ]
          },
          "metadata": {},
          "execution_count": 11
        }
      ]
    },
    {
      "cell_type": "markdown",
      "source": [
        "**8. Reshaping the data**<br>\n",
        "We then reshaped the data to make it a 3D array in order to use it in LSTM Layer."
      ],
      "metadata": {
        "id": "IW7csk9DpHQR"
      }
    },
    {
      "cell_type": "code",
      "metadata": {
        "colab": {
          "base_uri": "https://localhost:8080/"
        },
        "id": "cSmIrgrpwd3p",
        "outputId": "5d4a770e-c353-4ede-a9d9-18937af510c9"
      },
      "source": [
        "x_train = np.reshape(x_train, (x_train.shape[0], x_train.shape[1], 1))\n",
        "x_test = np.reshape(x_test, (x_test.shape[0], x_test.shape[1], 1))\n",
        "print(x_test.shape,x_train.shape)"
      ],
      "execution_count": 12,
      "outputs": [
        {
          "output_type": "stream",
          "name": "stdout",
          "text": [
            "(202, 50, 1) (955, 50, 1)\n"
          ]
        }
      ]
    },
    {
      "cell_type": "markdown",
      "source": [
        "**9. Building the Model**<br>\n",
        "We created a stacked LSTM model.*italicised text*"
      ],
      "metadata": {
        "id": "XKv2hE6TpNNe"
      }
    },
    {
      "cell_type": "code",
      "metadata": {
        "id": "67anxOQ21s7-"
      },
      "source": [
        "model = Sequential()\n",
        "model.add(LSTM(units=96, return_sequences=True, input_shape=(x_train.shape[1], 1)))\n",
        "model.add(Dropout(0.2))\n",
        "model.add(LSTM(units=96, return_sequences=True))\n",
        "model.add(Dropout(0.2))\n",
        "model.add(LSTM(units=96, return_sequences=True))\n",
        "model.add(Dropout(0.2))\n",
        "model.add(LSTM(units=96))\n",
        "model.add(Dropout(0.2))\n",
        "model.add(Dense(units=1))"
      ],
      "execution_count": 13,
      "outputs": []
    },
    {
      "cell_type": "markdown",
      "source": [
        "**10. Compiling the Model**<br>\n",
        "We used loss=’mean squared error’ because it is a regression problem, and the adam optimizer to update network weights iteratively based on training data."
      ],
      "metadata": {
        "id": "R6zQ2F0CpZyu"
      }
    },
    {
      "cell_type": "code",
      "metadata": {
        "id": "a9EkdCH-RK3J"
      },
      "source": [
        "model.compile(loss='mean_squared_error', optimizer='adam')"
      ],
      "execution_count": 14,
      "outputs": []
    },
    {
      "cell_type": "markdown",
      "source": [
        "**11. Training**<br>\n",
        "We used 50 epochs and set the batch size to 32."
      ],
      "metadata": {
        "id": "xGH8mpCrpmDp"
      }
    },
    {
      "cell_type": "code",
      "metadata": {
        "colab": {
          "base_uri": "https://localhost:8080/"
        },
        "id": "iUS3QhyJ6N5y",
        "outputId": "eedaf270-67f0-4442-c713-c51c3ca26a46"
      },
      "source": [
        "model.fit(x_train, y_train, epochs=50, batch_size=32)\n",
        "model.save('stock_prediction.h5')"
      ],
      "execution_count": 15,
      "outputs": [
        {
          "output_type": "stream",
          "name": "stdout",
          "text": [
            "Epoch 1/50\n",
            "30/30 [==============================] - 9s 101ms/step - loss: 0.0148\n",
            "Epoch 2/50\n",
            "30/30 [==============================] - 3s 104ms/step - loss: 0.0022\n",
            "Epoch 3/50\n",
            "30/30 [==============================] - 4s 124ms/step - loss: 0.0025\n",
            "Epoch 4/50\n",
            "30/30 [==============================] - 3s 104ms/step - loss: 0.0021\n",
            "Epoch 5/50\n",
            "30/30 [==============================] - 3s 102ms/step - loss: 0.0021\n",
            "Epoch 6/50\n",
            "30/30 [==============================] - 4s 120ms/step - loss: 0.0018\n",
            "Epoch 7/50\n",
            "30/30 [==============================] - 3s 104ms/step - loss: 0.0018\n",
            "Epoch 8/50\n",
            "30/30 [==============================] - 3s 103ms/step - loss: 0.0018\n",
            "Epoch 9/50\n",
            "30/30 [==============================] - 3s 103ms/step - loss: 0.0017\n",
            "Epoch 10/50\n",
            "30/30 [==============================] - 4s 124ms/step - loss: 0.0018\n",
            "Epoch 11/50\n",
            "30/30 [==============================] - 3s 102ms/step - loss: 0.0013\n",
            "Epoch 12/50\n",
            "30/30 [==============================] - 3s 102ms/step - loss: 0.0018\n",
            "Epoch 13/50\n",
            "30/30 [==============================] - 3s 106ms/step - loss: 0.0016\n",
            "Epoch 14/50\n",
            "30/30 [==============================] - 6s 191ms/step - loss: 0.0020\n",
            "Epoch 15/50\n",
            "30/30 [==============================] - 3s 106ms/step - loss: 0.0017\n",
            "Epoch 16/50\n",
            "30/30 [==============================] - 3s 113ms/step - loss: 0.0013\n",
            "Epoch 17/50\n",
            "30/30 [==============================] - 3s 113ms/step - loss: 0.0016\n",
            "Epoch 18/50\n",
            "30/30 [==============================] - 3s 103ms/step - loss: 0.0011\n",
            "Epoch 19/50\n",
            "30/30 [==============================] - 3s 102ms/step - loss: 0.0013\n",
            "Epoch 20/50\n",
            "30/30 [==============================] - 4s 123ms/step - loss: 0.0012\n",
            "Epoch 21/50\n",
            "30/30 [==============================] - 3s 102ms/step - loss: 0.0011\n",
            "Epoch 22/50\n",
            "30/30 [==============================] - 3s 101ms/step - loss: 9.4002e-04\n",
            "Epoch 23/50\n",
            "30/30 [==============================] - 3s 101ms/step - loss: 0.0013\n",
            "Epoch 24/50\n",
            "30/30 [==============================] - 4s 125ms/step - loss: 0.0013\n",
            "Epoch 25/50\n",
            "30/30 [==============================] - 3s 104ms/step - loss: 9.3390e-04\n",
            "Epoch 26/50\n",
            "30/30 [==============================] - 3s 102ms/step - loss: 0.0012\n",
            "Epoch 27/50\n",
            "30/30 [==============================] - 3s 115ms/step - loss: 0.0011\n",
            "Epoch 28/50\n",
            "30/30 [==============================] - 3s 110ms/step - loss: 0.0011\n",
            "Epoch 29/50\n",
            "30/30 [==============================] - 3s 100ms/step - loss: 9.7101e-04\n",
            "Epoch 30/50\n",
            "30/30 [==============================] - 3s 103ms/step - loss: 0.0011\n",
            "Epoch 31/50\n",
            "30/30 [==============================] - 4s 124ms/step - loss: 9.6994e-04\n",
            "Epoch 32/50\n",
            "30/30 [==============================] - 3s 102ms/step - loss: 9.3143e-04\n",
            "Epoch 33/50\n",
            "30/30 [==============================] - 3s 102ms/step - loss: 0.0011\n",
            "Epoch 34/50\n",
            "30/30 [==============================] - 3s 104ms/step - loss: 0.0011\n",
            "Epoch 35/50\n",
            "30/30 [==============================] - 4s 123ms/step - loss: 9.4059e-04\n",
            "Epoch 36/50\n",
            "30/30 [==============================] - 3s 104ms/step - loss: 8.3944e-04\n",
            "Epoch 37/50\n",
            "30/30 [==============================] - 3s 102ms/step - loss: 9.7218e-04\n",
            "Epoch 38/50\n",
            "30/30 [==============================] - 4s 125ms/step - loss: 0.0011\n",
            "Epoch 39/50\n",
            "30/30 [==============================] - 3s 102ms/step - loss: 0.0010\n",
            "Epoch 40/50\n",
            "30/30 [==============================] - 3s 102ms/step - loss: 9.7409e-04\n",
            "Epoch 41/50\n",
            "30/30 [==============================] - 3s 101ms/step - loss: 9.1648e-04\n",
            "Epoch 42/50\n",
            "30/30 [==============================] - 4s 125ms/step - loss: 9.6896e-04\n",
            "Epoch 43/50\n",
            "30/30 [==============================] - 3s 102ms/step - loss: 9.2864e-04\n",
            "Epoch 44/50\n",
            "30/30 [==============================] - 4s 145ms/step - loss: 7.3577e-04\n",
            "Epoch 45/50\n",
            "30/30 [==============================] - 4s 124ms/step - loss: 7.9534e-04\n",
            "Epoch 46/50\n",
            "30/30 [==============================] - 3s 101ms/step - loss: 7.6485e-04\n",
            "Epoch 47/50\n",
            "30/30 [==============================] - 3s 102ms/step - loss: 8.1674e-04\n",
            "Epoch 48/50\n",
            "30/30 [==============================] - 3s 101ms/step - loss: 9.3969e-04\n",
            "Epoch 49/50\n",
            "30/30 [==============================] - 4s 124ms/step - loss: 7.4142e-04\n",
            "Epoch 50/50\n",
            "30/30 [==============================] - 3s 102ms/step - loss: 8.0574e-04\n"
          ]
        }
      ]
    },
    {
      "cell_type": "markdown",
      "source": [
        "**12. Prediction**<br>\n"
      ],
      "metadata": {
        "id": "CocT6fw8pvhp"
      }
    },
    {
      "cell_type": "code",
      "metadata": {
        "id": "eT7WmQ0W8aFl",
        "colab": {
          "base_uri": "https://localhost:8080/"
        },
        "outputId": "4c0f4e86-22f1-4780-bb7f-1b74d120d5e0"
      },
      "source": [
        "predictions = model.predict(x_test)"
      ],
      "execution_count": 16,
      "outputs": [
        {
          "output_type": "stream",
          "name": "stdout",
          "text": [
            "7/7 [==============================] - 1s 29ms/step\n"
          ]
        }
      ]
    },
    {
      "cell_type": "markdown",
      "source": [
        "**13. Reverse scaling**<br>\n",
        "We had scaled the data between 0 and 1. Therefore, we had to do the reverse scaling."
      ],
      "metadata": {
        "id": "B_2Gg3FAp9N_"
      }
    },
    {
      "cell_type": "code",
      "metadata": {
        "id": "7cVWva9hA0cK"
      },
      "source": [
        "predictions = scaler.inverse_transform(predictions)\n",
        "y_test_scaled = scaler.inverse_transform(y_test.reshape(-1, 1))"
      ],
      "execution_count": 17,
      "outputs": []
    },
    {
      "cell_type": "markdown",
      "source": [
        "**14. Visualising the results**<br>\n",
        "We then plotted the results. The predicted price which is stored in predictions is plotted in blue, and the actual price which is stored in y_test_scaled is plotted in red."
      ],
      "metadata": {
        "id": "RQiQzhXbqHoI"
      }
    },
    {
      "cell_type": "code",
      "metadata": {
        "colab": {
          "base_uri": "https://localhost:8080/",
          "height": 694
        },
        "id": "Shb9vI9q-Aq9",
        "outputId": "4cd5f733-aefb-46eb-d5ee-85e763db63e3"
      },
      "source": [
        "fig, ax = plt.subplots(figsize=(16,8))\n",
        "ax.set_facecolor('#000041')\n",
        "ax.plot(y_test_scaled, color='red', label='Original price')\n",
        "plt.plot(predictions, color='cyan', label='Predicted price')\n",
        "plt.legend()"
      ],
      "execution_count": 18,
      "outputs": [
        {
          "output_type": "execute_result",
          "data": {
            "text/plain": [
              "<matplotlib.legend.Legend at 0x786357176ce0>"
            ]
          },
          "metadata": {},
          "execution_count": 18
        },
        {
          "output_type": "display_data",
          "data": {
            "text/plain": [
              "<Figure size 1600x800 with 1 Axes>"
            ],
            "image/png": "[encoded data removed]"
          },
          "metadata": {}
        }
      ]
    }
  ]
}